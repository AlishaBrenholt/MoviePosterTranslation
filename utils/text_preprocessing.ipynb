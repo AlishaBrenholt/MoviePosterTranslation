{
 "cells": [
  {
   "cell_type": "code",
   "id": "initial_id",
   "metadata": {
    "collapsed": true,
    "ExecuteTime": {
     "end_time": "2025-03-14T23:03:51.429934Z",
     "start_time": "2025-03-14T23:03:51.426180Z"
    }
   },
   "source": [
    "# Open the file in read mode\n",
    "with open('../data/llm/transcript.v.1.4.txt', 'r') as file:\n",
    "    # Read each line in the file\n",
    "    i = 0\n",
    "    for line in file:\n",
    "        # Print each line\n",
    "        line = line.strip()\n",
    "        line = line.split('|')\n",
    "        print(line)\n",
    "        i += 1\n",
    "        if i == 10:\n",
    "            break\n"
   ],
   "outputs": [
    {
     "name": "stdout",
     "output_type": "stream",
     "text": [
      "['1/1_0000.wav', '그는 괜찮은 척하려고 애쓰는 것 같았다.', '그는 괜찮은 척하려고 애쓰는 것 같았다.', '그는 괜찮은 척하려고 애쓰는 것 같았다.', '3.5', 'He seemed to be pretending to be okay.']\n",
      "['1/1_0001.wav', '그녀의 사랑을 얻기 위해 애썼지만 헛수고였다.', '그녀의 사랑을 얻기 위해 애썼지만 헛수고였다.', '그녀의 사랑을 얻기 위해 애썼지만 헛수고였다.', '4.0', 'I tried in vain to win her love.']\n",
      "['1/1_0002.wav', '용돈을 아껴 써라.', '용돈을 아껴 써라.', '용돈을 아껴 써라.', '1.8', 'Save your pocket money.']\n",
      "['1/1_0003.wav', '그는 아내를 많이 아낀다.', '그는 아내를 많이 아낀다.', '그는 아내를 많이 아낀다.', '2.3', 'He cherishes his wife.']\n",
      "['1/1_0004.wav', '그 애 전화번호 알아?', '그 애 전화번호 알아?', '그 애 전화번호 알아?', '1.3', 'Do you know his number?']\n",
      "['1/1_0005.wav', '차에 대해 잘 아세요?', '차에 대해 잘 아세요?', '차에 대해 잘 아세요?', '1.7', 'Do you know much about cars?']\n",
      "['1/1_0006.wav', '거기 도착하면 나한테 알려 줘.', '거기 도착하면 나한테 알려 줘.', '거기 도착하면 나한테 알려 줘.', '2.8', 'Let me know if you get there.']\n",
      "['1/1_0007.wav', '그들은 내가 시험에 떨어졌다고 알려 왔다.', '그들은 내가 시험에 떨어졌다고 알려 왔다.', '그들은 내가 시험에 떨어졌다고 알려 왔다.', '3.5', 'They informed me that I failed the exam.']\n",
      "['1/1_0008.wav', '나는 살아오면서 감기를 앓은 적이 한 번도 없다.', '나는 살아오면서 감기를 앓은 적이 한 번도 없다.', '나는 살아오면서 감기를 앓은 적이 한 번도 없다.', '4.2', \"I've never had a cold in my life.\"]\n",
      "['1/1_0009.wav', '사흘 동안 심하게 몸살을 앓았어요.', '사흘 동안 심하게 몸살을 앓았어요.', '사흘 동안 심하게 몸살을 앓았어요.', '3.2', 'My whole body ached for three days.']\n"
     ]
    }
   ],
   "execution_count": 4
  }
 ],
 "metadata": {
  "kernelspec": {
   "display_name": "Python 3",
   "language": "python",
   "name": "python3"
  },
  "language_info": {
   "codemirror_mode": {
    "name": "ipython",
    "version": 2
   },
   "file_extension": ".py",
   "mimetype": "text/x-python",
   "name": "python",
   "nbconvert_exporter": "python",
   "pygments_lexer": "ipython2",
   "version": "2.7.6"
  }
 },
 "nbformat": 4,
 "nbformat_minor": 5
}
